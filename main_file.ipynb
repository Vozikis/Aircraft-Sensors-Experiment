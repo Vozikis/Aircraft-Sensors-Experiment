{
 "cells": [
  {
   "cell_type": "code",
   "execution_count": 30,
   "metadata": {},
   "outputs": [],
   "source": [
    "import pandas as pd\n",
    "import matplotlib.pyplot as plt\n",
    "import seaborn as sns\n",
    "import numpy as np"
   ]
  },
  {
   "cell_type": "code",
   "execution_count": 28,
   "metadata": {},
   "outputs": [],
   "source": [
    "# Training data. Failure occurs on the last cycle.\n",
    "train_df = pd.read_csv('Dataset/PM_train.txt', sep=\" \", header=None)\n",
    "\n",
    "# Test data. Failure occurs on the last cycle.\n",
    "test_df = pd.read_csv('Dataset/PM_test.txt', sep=\" \", header=None)"
   ]
  },
  {
   "cell_type": "markdown",
   "metadata": {},
   "source": [
    "# Data from the NASA dataset\n",
    "Column 0 corresponds to the different engine cycles\n",
    "\n",
    "Column 1 corresponds to the same engine timestamp until failure occured\n",
    "\n",
    "Column 2-4 correspond to the settings of the engine\n",
    "\n",
    "Column 5-27 corresond to the different values we got from sensors located in the engine"
   ]
  },
  {
   "cell_type": "code",
   "execution_count": 10,
   "metadata": {},
   "outputs": [
    {
     "data": {
      "text/html": [
       "<div>\n",
       "<style scoped>\n",
       "    .dataframe tbody tr th:only-of-type {\n",
       "        vertical-align: middle;\n",
       "    }\n",
       "\n",
       "    .dataframe tbody tr th {\n",
       "        vertical-align: top;\n",
       "    }\n",
       "\n",
       "    .dataframe thead th {\n",
       "        text-align: right;\n",
       "    }\n",
       "</style>\n",
       "<table border=\"1\" class=\"dataframe\">\n",
       "  <thead>\n",
       "    <tr style=\"text-align: right;\">\n",
       "      <th></th>\n",
       "      <th>0</th>\n",
       "      <th>1</th>\n",
       "      <th>2</th>\n",
       "      <th>3</th>\n",
       "      <th>4</th>\n",
       "      <th>5</th>\n",
       "      <th>6</th>\n",
       "      <th>7</th>\n",
       "      <th>8</th>\n",
       "      <th>9</th>\n",
       "      <th>...</th>\n",
       "      <th>18</th>\n",
       "      <th>19</th>\n",
       "      <th>20</th>\n",
       "      <th>21</th>\n",
       "      <th>22</th>\n",
       "      <th>23</th>\n",
       "      <th>24</th>\n",
       "      <th>25</th>\n",
       "      <th>26</th>\n",
       "      <th>27</th>\n",
       "    </tr>\n",
       "  </thead>\n",
       "  <tbody>\n",
       "    <tr>\n",
       "      <th>0</th>\n",
       "      <td>1</td>\n",
       "      <td>1</td>\n",
       "      <td>-0.0007</td>\n",
       "      <td>-0.0004</td>\n",
       "      <td>100.0</td>\n",
       "      <td>518.67</td>\n",
       "      <td>641.82</td>\n",
       "      <td>1589.70</td>\n",
       "      <td>1400.60</td>\n",
       "      <td>14.62</td>\n",
       "      <td>...</td>\n",
       "      <td>8138.62</td>\n",
       "      <td>8.4195</td>\n",
       "      <td>0.03</td>\n",
       "      <td>392</td>\n",
       "      <td>2388</td>\n",
       "      <td>100.0</td>\n",
       "      <td>39.06</td>\n",
       "      <td>23.4190</td>\n",
       "      <td>NaN</td>\n",
       "      <td>NaN</td>\n",
       "    </tr>\n",
       "    <tr>\n",
       "      <th>1</th>\n",
       "      <td>1</td>\n",
       "      <td>2</td>\n",
       "      <td>0.0019</td>\n",
       "      <td>-0.0003</td>\n",
       "      <td>100.0</td>\n",
       "      <td>518.67</td>\n",
       "      <td>642.15</td>\n",
       "      <td>1591.82</td>\n",
       "      <td>1403.14</td>\n",
       "      <td>14.62</td>\n",
       "      <td>...</td>\n",
       "      <td>8131.49</td>\n",
       "      <td>8.4318</td>\n",
       "      <td>0.03</td>\n",
       "      <td>392</td>\n",
       "      <td>2388</td>\n",
       "      <td>100.0</td>\n",
       "      <td>39.00</td>\n",
       "      <td>23.4236</td>\n",
       "      <td>NaN</td>\n",
       "      <td>NaN</td>\n",
       "    </tr>\n",
       "    <tr>\n",
       "      <th>2</th>\n",
       "      <td>1</td>\n",
       "      <td>3</td>\n",
       "      <td>-0.0043</td>\n",
       "      <td>0.0003</td>\n",
       "      <td>100.0</td>\n",
       "      <td>518.67</td>\n",
       "      <td>642.35</td>\n",
       "      <td>1587.99</td>\n",
       "      <td>1404.20</td>\n",
       "      <td>14.62</td>\n",
       "      <td>...</td>\n",
       "      <td>8133.23</td>\n",
       "      <td>8.4178</td>\n",
       "      <td>0.03</td>\n",
       "      <td>390</td>\n",
       "      <td>2388</td>\n",
       "      <td>100.0</td>\n",
       "      <td>38.95</td>\n",
       "      <td>23.3442</td>\n",
       "      <td>NaN</td>\n",
       "      <td>NaN</td>\n",
       "    </tr>\n",
       "    <tr>\n",
       "      <th>3</th>\n",
       "      <td>1</td>\n",
       "      <td>4</td>\n",
       "      <td>0.0007</td>\n",
       "      <td>0.0000</td>\n",
       "      <td>100.0</td>\n",
       "      <td>518.67</td>\n",
       "      <td>642.35</td>\n",
       "      <td>1582.79</td>\n",
       "      <td>1401.87</td>\n",
       "      <td>14.62</td>\n",
       "      <td>...</td>\n",
       "      <td>8133.83</td>\n",
       "      <td>8.3682</td>\n",
       "      <td>0.03</td>\n",
       "      <td>392</td>\n",
       "      <td>2388</td>\n",
       "      <td>100.0</td>\n",
       "      <td>38.88</td>\n",
       "      <td>23.3739</td>\n",
       "      <td>NaN</td>\n",
       "      <td>NaN</td>\n",
       "    </tr>\n",
       "    <tr>\n",
       "      <th>4</th>\n",
       "      <td>1</td>\n",
       "      <td>5</td>\n",
       "      <td>-0.0019</td>\n",
       "      <td>-0.0002</td>\n",
       "      <td>100.0</td>\n",
       "      <td>518.67</td>\n",
       "      <td>642.37</td>\n",
       "      <td>1582.85</td>\n",
       "      <td>1406.22</td>\n",
       "      <td>14.62</td>\n",
       "      <td>...</td>\n",
       "      <td>8133.80</td>\n",
       "      <td>8.4294</td>\n",
       "      <td>0.03</td>\n",
       "      <td>393</td>\n",
       "      <td>2388</td>\n",
       "      <td>100.0</td>\n",
       "      <td>38.90</td>\n",
       "      <td>23.4044</td>\n",
       "      <td>NaN</td>\n",
       "      <td>NaN</td>\n",
       "    </tr>\n",
       "  </tbody>\n",
       "</table>\n",
       "<p>5 rows × 28 columns</p>\n",
       "</div>"
      ],
      "text/plain": [
       "   0   1       2       3      4       5       6        7        8      9   \\\n",
       "0   1   1 -0.0007 -0.0004  100.0  518.67  641.82  1589.70  1400.60  14.62   \n",
       "1   1   2  0.0019 -0.0003  100.0  518.67  642.15  1591.82  1403.14  14.62   \n",
       "2   1   3 -0.0043  0.0003  100.0  518.67  642.35  1587.99  1404.20  14.62   \n",
       "3   1   4  0.0007  0.0000  100.0  518.67  642.35  1582.79  1401.87  14.62   \n",
       "4   1   5 -0.0019 -0.0002  100.0  518.67  642.37  1582.85  1406.22  14.62   \n",
       "\n",
       "   ...       18      19    20   21    22     23     24       25  26  27  \n",
       "0  ...  8138.62  8.4195  0.03  392  2388  100.0  39.06  23.4190 NaN NaN  \n",
       "1  ...  8131.49  8.4318  0.03  392  2388  100.0  39.00  23.4236 NaN NaN  \n",
       "2  ...  8133.23  8.4178  0.03  390  2388  100.0  38.95  23.3442 NaN NaN  \n",
       "3  ...  8133.83  8.3682  0.03  392  2388  100.0  38.88  23.3739 NaN NaN  \n",
       "4  ...  8133.80  8.4294  0.03  393  2388  100.0  38.90  23.4044 NaN NaN  \n",
       "\n",
       "[5 rows x 28 columns]"
      ]
     },
     "execution_count": 10,
     "metadata": {},
     "output_type": "execute_result"
    }
   ],
   "source": [
    "train_df.head()"
   ]
  },
  {
   "cell_type": "code",
   "execution_count": 14,
   "metadata": {},
   "outputs": [
    {
     "name": "stdout",
     "output_type": "stream",
     "text": [
      "<class 'pandas.core.frame.DataFrame'>\n",
      "RangeIndex: 20631 entries, 0 to 20630\n",
      "Data columns (total 28 columns):\n",
      " #   Column  Non-Null Count  Dtype  \n",
      "---  ------  --------------  -----  \n",
      " 0   0       20631 non-null  int64  \n",
      " 1   1       20631 non-null  int64  \n",
      " 2   2       20631 non-null  float64\n",
      " 3   3       20631 non-null  float64\n",
      " 4   4       20631 non-null  float64\n",
      " 5   5       20631 non-null  float64\n",
      " 6   6       20631 non-null  float64\n",
      " 7   7       20631 non-null  float64\n",
      " 8   8       20631 non-null  float64\n",
      " 9   9       20631 non-null  float64\n",
      " 10  10      20631 non-null  float64\n",
      " 11  11      20631 non-null  float64\n",
      " 12  12      20631 non-null  float64\n",
      " 13  13      20631 non-null  float64\n",
      " 14  14      20631 non-null  float64\n",
      " 15  15      20631 non-null  float64\n",
      " 16  16      20631 non-null  float64\n",
      " 17  17      20631 non-null  float64\n",
      " 18  18      20631 non-null  float64\n",
      " 19  19      20631 non-null  float64\n",
      " 20  20      20631 non-null  float64\n",
      " 21  21      20631 non-null  int64  \n",
      " 22  22      20631 non-null  int64  \n",
      " 23  23      20631 non-null  float64\n",
      " 24  24      20631 non-null  float64\n",
      " 25  25      20631 non-null  float64\n",
      " 26  26      0 non-null      float64\n",
      " 27  27      0 non-null      float64\n",
      "dtypes: float64(24), int64(4)\n",
      "memory usage: 4.4 MB\n",
      "None\n"
     ]
    }
   ],
   "source": [
    "print(train_df.info())\n",
    "\n"
   ]
  },
  {
   "cell_type": "markdown",
   "metadata": {},
   "source": [
    "Column 26 and 27 have no values. We will drop those."
   ]
  },
  {
   "cell_type": "code",
   "execution_count": 19,
   "metadata": {},
   "outputs": [],
   "source": [
    "train_df = train_df.drop(columns=[26,27])"
   ]
  },
  {
   "cell_type": "code",
   "execution_count": 21,
   "metadata": {},
   "outputs": [],
   "source": [
    "descriptive_stats = train_df.describe(include='all').T\n",
    "nan_counts = train_df.isna().sum()\n",
    "zero_counts = (train_df == 0).sum()\n",
    "summary_df = pd.DataFrame({\n",
    "    'mean': descriptive_stats['mean'],\n",
    "    'std': descriptive_stats['std'],\n",
    "    'nan_count': nan_counts,\n",
    "    'zero_count': zero_counts\n",
    "})\n"
   ]
  },
  {
   "cell_type": "code",
   "execution_count": 22,
   "metadata": {},
   "outputs": [
    {
     "name": "stdout",
     "output_type": "stream",
     "text": [
      "           mean           std  nan_count  zero_count\n",
      "0     51.506568  2.922763e+01          0           0\n",
      "1    108.807862  6.888099e+01          0           0\n",
      "2     -0.000009  2.187313e-03          0         413\n",
      "3      0.000002  2.930621e-04          0        2070\n",
      "4    100.000000  0.000000e+00          0           0\n",
      "5    518.670000  0.000000e+00          0           0\n",
      "6    642.680934  5.000533e-01          0           0\n",
      "7   1590.523119  6.131150e+00          0           0\n",
      "8   1408.933782  9.000605e+00          0           0\n",
      "9     14.620000  1.776400e-15          0           0\n",
      "10    21.609803  1.388985e-03          0           0\n",
      "11   553.367711  8.850923e-01          0           0\n",
      "12  2388.096652  7.098548e-02          0           0\n",
      "13  9065.242941  2.208288e+01          0           0\n",
      "14     1.300000  0.000000e+00          0           0\n",
      "15    47.541168  2.670874e-01          0           0\n",
      "16   521.413470  7.375534e-01          0           0\n",
      "17  2388.096152  7.191892e-02          0           0\n",
      "18  8143.752722  1.907618e+01          0           0\n",
      "19     8.442146  3.750504e-02          0           0\n",
      "20     0.030000  1.387812e-17          0           0\n",
      "21   393.210654  1.548763e+00          0           0\n",
      "22  2388.000000  0.000000e+00          0           0\n",
      "23   100.000000  0.000000e+00          0           0\n",
      "24    38.816271  1.807464e-01          0           0\n",
      "25    23.289705  1.082509e-01          0           0\n"
     ]
    }
   ],
   "source": [
    "print(summary_df)"
   ]
  },
  {
   "cell_type": "code",
   "execution_count": 38,
   "metadata": {},
   "outputs": [
    {
     "name": "stderr",
     "output_type": "stream",
     "text": [
      "/Users/antonis/miniforge3/envs/py10/lib/python3.10/site-packages/pandas/core/algorithms.py:1743: RuntimeWarning: invalid value encountered in log\n",
      "  return lib.map_infer(values, mapper, convert=convert)\n"
     ]
    },
    {
     "data": {
      "image/png": "[encoded data removed]",
      "text/plain": [
       "<Figure size 2000x1400 with 1 Axes>"
      ]
     },
     "metadata": {},
     "output_type": "display_data"
    }
   ],
   "source": [
    "\n",
    "epsilon = 1e-10\n",
    "df_cleaned = train_df + epsilon\n",
    "df_log = df_cleaned.map(np.log)\n",
    "melted_df_cleaned = df_log.melt(var_name='Column', value_name='Value')\n",
    "\n",
    "plt.figure(figsize=(20, 14))\n",
    "sns.boxplot(x='Column', y='Value', data=melted_df_cleaned)\n",
    "plt.title('Boxplot for Each Column (Excluding NaN and Zero Values)')\n",
    "plt.show()"
   ]
  },
  {
   "cell_type": "code",
   "execution_count": null,
   "metadata": {},
   "outputs": [],
   "source": []
  }
 ],
 "metadata": {
  "kernelspec": {
   "display_name": "py10",
   "language": "python",
   "name": "python3"
  },
  "language_info": {
   "codemirror_mode": {
    "name": "ipython",
    "version": 3
   },
   "file_extension": ".py",
   "mimetype": "text/x-python",
   "name": "python",
   "nbconvert_exporter": "python",
   "pygments_lexer": "ipython3",
   "version": "3.10.14"
  }
 },
 "nbformat": 4,
 "nbformat_minor": 2
}
